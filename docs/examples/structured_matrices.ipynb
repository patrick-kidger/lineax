{
 "cells": [
  {
   "cell_type": "markdown",
   "id": "e2573d62-a505-4998-8796-b0f1bc889433",
   "metadata": {},
   "source": [
    "# Structured matrices\n",
    "\n",
    "Lineax can also be used with matrices known to exhibit special structure, e.g. tridiagonal matrices or positive definite matrices.\n",
    "\n",
    "Typically, that means using a particular operator type:"
   ]
  },
  {
   "cell_type": "code",
   "execution_count": 1,
   "id": "8e275652-dd80-4a9a-b3ac-b96dc16d3334",
   "metadata": {
    "tags": []
   },
   "outputs": [
    {
     "name": "stdout",
     "output_type": "stream",
     "text": [
      "[[ 4.   2.   0.   0. ]\n",
      " [ 1.  -0.5 -1.   0. ]\n",
      " [ 0.   3.   7.  -5. ]\n",
      " [ 0.   0.  -0.7  1. ]]\n"
     ]
    }
   ],
   "source": [
    "import jax.numpy as jnp\n",
    "import jax.random as jr\n",
    "import lineax as lx\n",
    "\n",
    "\n",
    "diag = jnp.array([4.0, -0.5, 7.0, 1.0])\n",
    "lower_diag = jnp.array([1.0, 3.0, -0.7])\n",
    "upper_diag = jnp.array([2.0, -1.0, -5.0])\n",
    "\n",
    "operator = lx.TridiagonalLinearOperator(diag, lower_diag, upper_diag)\n",
    "print(operator.as_matrix())"
   ]
  },
  {
   "cell_type": "code",
   "execution_count": 2,
   "id": "ba23ecc4-bdea-4293-a138-ce77bc83082c",
   "metadata": {
    "tags": []
   },
   "outputs": [],
   "source": [
    "vector = jnp.array([1.0, -0.5, 2.0, 0.8])\n",
    "# Will automatically dispatch to a tridiagonal solver.\n",
    "solution = lx.linear_solve(operator, vector)"
   ]
  },
  {
   "cell_type": "markdown",
   "id": "cd58979d-b619-4ddf-9a17-12e8babae3e8",
   "metadata": {},
   "source": [
    "If you're uncertain which solver is being dispatched to, then you can check:"
   ]
  },
  {
   "cell_type": "code",
   "execution_count": 3,
   "id": "6984f62f-75fc-4d6e-ab42-fdade471be5b",
   "metadata": {
    "tags": []
   },
   "outputs": [
    {
     "name": "stdout",
     "output_type": "stream",
     "text": [
      "Tridiagonal()\n"
     ]
    }
   ],
   "source": [
    "default_solver = lx.AutoLinearSolver(well_posed=True)\n",
    "print(default_solver.select_solver(operator))"
   ]
  },
  {
   "cell_type": "markdown",
   "id": "164a5bd5-5d48-4b28-bcc5-d276ab49c780",
   "metadata": {},
   "source": [
    "If you want to enforce that a particular solver is used, then it can be passed manually:"
   ]
  },
  {
   "cell_type": "code",
   "execution_count": 4,
   "id": "102ada9a-0533-40cf-9bad-02918fffb6b1",
   "metadata": {
    "tags": []
   },
   "outputs": [],
   "source": [
    "solution = lx.linear_solve(operator, vector, solver=lx.Tridiagonal())"
   ]
  },
  {
   "cell_type": "markdown",
   "id": "1b4ebf09-e138-43f6-973c-c9f005ffb55e",
   "metadata": {},
   "source": [
    "Trying to use a solver with an unsupported operator will raise an error:"
   ]
  },
  {
   "cell_type": "code",
   "execution_count": 6,
   "id": "d8f5bf66-53cd-4e81-a8d7-a19e86307ad3",
   "metadata": {
    "tags": []
   },
   "outputs": [
    {
     "ename": "ValueError",
     "evalue": "`Tridiagonal` may only be used for linear solves with tridiagonal matrices",
     "output_type": "error",
     "traceback": [
      "\u001b[0;31mValueError\u001b[0m\u001b[0;31m:\u001b[0m `Tridiagonal` may only be used for linear solves with tridiagonal matrices\n"
     ]
    }
   ],
   "source": [
    "not_tridiagonal_matrix = jr.normal(jr.PRNGKey(0), (4, 4))\n",
    "not_tridiagonal_operator = lx.MatrixLinearOperator(not_tridiagonal_matrix)\n",
    "solution = lx.linear_solve(not_tridiagonal_operator, vector, solver=lx.Tridiagonal())"
   ]
  },
  {
   "cell_type": "markdown",
   "id": "03c4c531-58fa-4b56-8b0a-6e611c8c5912",
   "metadata": {},
   "source": [
    "---\n",
    "\n",
    "Besides using a particular operator type, the structure of the matrix can also be expressed by [adding particular tags](../../api/tags/). These tags act as a manual override mechanism, and the values of the matrix are not checked.\n",
    "\n",
    "For example, let's construct a positive definite matrix:"
   ]
  },
  {
   "cell_type": "code",
   "execution_count": 7,
   "id": "b5add874-7a2c-4000-84c3-8c94a121a831",
   "metadata": {
    "tags": []
   },
   "outputs": [],
   "source": [
    "matrix = jr.normal(jr.PRNGKey(0), (4, 4))\n",
    "operator = lx.MatrixLinearOperator(matrix.T @ matrix)"
   ]
  },
  {
   "cell_type": "markdown",
   "id": "5459b2d6-ddb9-4a37-bb51-3f5c204bab0d",
   "metadata": {},
   "source": [
    "Unfortunately, Lineax has no way of knowing that this matrix is positive definite. It can solve the system, but it will not use a solver that is adapted to exploit the extra structure:"
   ]
  },
  {
   "cell_type": "code",
   "execution_count": 8,
   "id": "78400416-e774-4f74-a530-e368db84af0e",
   "metadata": {
    "tags": []
   },
   "outputs": [
    {
     "name": "stdout",
     "output_type": "stream",
     "text": [
      "LU()\n"
     ]
    }
   ],
   "source": [
    "solution = lx.linear_solve(operator, vector)\n",
    "print(default_solver.select_solver(operator))"
   ]
  },
  {
   "cell_type": "markdown",
   "id": "e108bdff-1cf1-4751-8c9d-3baae82ca9a7",
   "metadata": {},
   "source": [
    "But if we add a tag:"
   ]
  },
  {
   "cell_type": "code",
   "execution_count": 9,
   "id": "f6dc2966-1dfa-4a3c-be6a-974926695547",
   "metadata": {
    "tags": []
   },
   "outputs": [
    {
     "name": "stdout",
     "output_type": "stream",
     "text": [
      "Cholesky()\n"
     ]
    }
   ],
   "source": [
    "operator = lx.MatrixLinearOperator(matrix.T @ matrix, lx.positive_semidefinite_tag)\n",
    "solution2 = lx.linear_solve(operator, vector)\n",
    "print(default_solver.select_solver(operator))"
   ]
  },
  {
   "cell_type": "markdown",
   "id": "7274d17b-a7d3-45bf-9042-785ac25e2d74",
   "metadata": {},
   "source": [
    "Then a more efficient solver can be selected. We can check that the solutions returned from these two approaches are equal:"
   ]
  },
  {
   "cell_type": "code",
   "execution_count": 10,
   "id": "fdcde152-9ac1-4532-a174-3fc39d83d289",
   "metadata": {
    "tags": []
   },
   "outputs": [
    {
     "name": "stdout",
     "output_type": "stream",
     "text": [
      "[ 1.400575   -0.41042092  0.5313305   0.28422552]\n",
      "[ 1.4005749  -0.41042086  0.53133047  0.2842255 ]\n"
     ]
    }
   ],
   "source": [
    "print(solution.value)\n",
    "print(solution2.value)"
   ]
  }
 ],
 "metadata": {
  "kernelspec": {
   "display_name": "py39",
   "language": "python",
   "name": "py39"
  },
  "language_info": {
   "codemirror_mode": {
    "name": "ipython",
    "version": 3
   },
   "file_extension": ".py",
   "mimetype": "text/x-python",
   "name": "python",
   "nbconvert_exporter": "python",
   "pygments_lexer": "ipython3",
   "version": "3.9.16"
  }
 },
 "nbformat": 4,
 "nbformat_minor": 5
}
