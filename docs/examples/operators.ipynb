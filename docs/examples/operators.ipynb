{
 "cells": [
  {
   "cell_type": "markdown",
   "id": "2fe0b1e4-35cb-4c39-b324-65253aab005a",
   "metadata": {},
   "source": [
    "# Manipulating linear operators\n",
    "\n",
    "Lineax offers a sophisticated system of linear operators, supporting many operations.\n",
    "\n",
    "## Arithmetic\n",
    "\n",
    "To begin with, they support arithmetic, like addition and multiplication:"
   ]
  },
  {
   "cell_type": "code",
   "execution_count": 1,
   "id": "552021d3-dadf-49f3-bd17-84a18513bfcc",
   "metadata": {
    "tags": []
   },
   "outputs": [],
   "source": [
    "import jax\n",
    "import jax.numpy as jnp\n",
    "import jax.random as jr\n",
    "import lineax as lx\n",
    "import numpy as np\n",
    "\n",
    "\n",
    "np.set_printoptions(precision=3)\n",
    "\n",
    "matrix = jnp.zeros((5, 5))\n",
    "matrix = matrix.at[0, 4].set(3)  # top left corner\n",
    "sparse_operator = lx.MatrixLinearOperator(matrix)\n",
    "\n",
    "key0, key1, key = jr.split(jr.PRNGKey(0), 3)\n",
    "diag = jr.normal(key0, (5,))\n",
    "lower_diag = jr.normal(key0, (4,))\n",
    "upper_diag = jr.normal(key0, (4,))\n",
    "tridiag_operator = lx.TridiagonalLinearOperator(diag, lower_diag, upper_diag)\n",
    "\n",
    "identity_operator = lx.IdentityLinearOperator(jax.ShapeDtypeStruct((5,), jnp.float32))"
   ]
  },
  {
   "cell_type": "code",
   "execution_count": 2,
   "id": "a4bb9825-73cc-447e-bc4c-c3e1a121a0a3",
   "metadata": {
    "tags": []
   },
   "outputs": [
    {
     "name": "stdout",
     "output_type": "stream",
     "text": [
      "[[-1.149  0.963  0.     0.     3.   ]\n",
      " [ 0.963 -2.007  0.155  0.     0.   ]\n",
      " [ 0.     0.155  0.988 -0.261  0.   ]\n",
      " [ 0.     0.    -0.261  0.931  0.899]\n",
      " [ 0.     0.     0.     0.899 -0.288]]\n"
     ]
    }
   ],
   "source": [
    "print((sparse_operator + tridiag_operator).as_matrix())"
   ]
  },
  {
   "cell_type": "code",
   "execution_count": 3,
   "id": "759c78a1-eee7-40e9-be6c-ea8c97c29e95",
   "metadata": {
    "tags": []
   },
   "outputs": [
    {
     "name": "stdout",
     "output_type": "stream",
     "text": [
      "[[-101.149    0.963    0.       0.       0.   ]\n",
      " [   0.963 -102.007    0.155    0.       0.   ]\n",
      " [   0.       0.155  -99.012   -0.261    0.   ]\n",
      " [   0.       0.      -0.261  -99.069    0.899]\n",
      " [   0.       0.       0.       0.899 -100.288]]\n"
     ]
    }
   ],
   "source": [
    "print((tridiag_operator - 100 * identity_operator).as_matrix())"
   ]
  },
  {
   "cell_type": "markdown",
   "id": "84412bfa-00ec-41d4-87d7-def781145a90",
   "metadata": {},
   "source": [
    "Or they can be composed together. (I.e. matrix multiplication.)"
   ]
  },
  {
   "cell_type": "code",
   "execution_count": 4,
   "id": "8081d97f-5579-464f-8780-ffaa1d9c5f95",
   "metadata": {
    "tags": []
   },
   "outputs": [
    {
     "name": "stdout",
     "output_type": "stream",
     "text": [
      "[[ 0.     0.     0.     0.    -3.447]\n",
      " [ 0.     0.     0.     0.     2.888]\n",
      " [ 0.     0.     0.     0.     0.   ]\n",
      " [ 0.     0.     0.     0.     0.   ]\n",
      " [ 0.     0.     0.     0.     0.   ]]\n"
     ]
    }
   ],
   "source": [
    "print((tridiag_operator @ sparse_operator).as_matrix())"
   ]
  },
  {
   "cell_type": "markdown",
   "id": "d2c2b580-616f-4abd-a732-7f4a9b13335f",
   "metadata": {},
   "source": [
    "Or they can be transposed:"
   ]
  },
  {
   "cell_type": "code",
   "execution_count": 5,
   "id": "ae0393eb-3f43-490b-9842-bb374633633a",
   "metadata": {
    "tags": []
   },
   "outputs": [
    {
     "name": "stdout",
     "output_type": "stream",
     "text": [
      "[[0. 0. 0. 0. 0.]\n",
      " [0. 0. 0. 0. 0.]\n",
      " [0. 0. 0. 0. 0.]\n",
      " [0. 0. 0. 0. 0.]\n",
      " [3. 0. 0. 0. 0.]]\n"
     ]
    }
   ],
   "source": [
    "print(sparse_operator.transpose().as_matrix())  # or sparse_operator.T will work"
   ]
  },
  {
   "cell_type": "markdown",
   "id": "ddbbbb0f-7983-4e35-b92d-2512c9612d19",
   "metadata": {},
   "source": [
    "## Different operator types\n",
    "\n",
    "Lineax has many different operator types:\n",
    "\n",
    "- We've already seen some general examples above, like [`lineax.MatrixLinearOperator`][].\n",
    "- We've already seen some structured examples above, like [`lineax.TridiagonalLinearOperator`][].\n",
    "- Given a function $f \\colon \\mathbb{R}^n \\to \\mathbb{R}^m$ and a point $x \\in \\mathbb{R}^n$, then [`lineax.JacobianLinearOperator`][] represents the Jacobian $\\frac{\\mathrm{d}f}{\\mathrm{d}x}(x) \\in \\mathbb{R}^{n \\times m}$.\n",
    "- Given a linear function $g \\colon \\mathbb{R}^n \\to \\mathbb{R}^m$, then [`lineax.FunctionLinearOperator`][] represents the matrix corresponding to this linear function, i.e. the unique matrix $A$ for which $g(x) = Ax$.\n",
    "- etc!\n",
    "\n",
    "See the [operators](../../api/operators/) page for details on all supported operators.\n",
    "\n",
    "As above these can be freely combined:"
   ]
  },
  {
   "cell_type": "code",
   "execution_count": 6,
   "id": "75ad4480-8ce0-4a88-9c76-bc054b1a0eaf",
   "metadata": {
    "tags": []
   },
   "outputs": [],
   "source": [
    "from jaxtyping import Array, Float  # https://github.com/google/jaxtyping\n",
    "\n",
    "\n",
    "def f(y: Float[Array, \"3\"], args) -> Float[Array, \"3\"]:\n",
    "    y0, y1, y2 = y\n",
    "    f0 = 5 * y0 + y1**2\n",
    "    f1 = y1 - y2 + 5\n",
    "    f2 = y0 / (1 + 5 * y2**2)\n",
    "    return jnp.stack([f0, f1, f2])\n",
    "\n",
    "\n",
    "def g(y: Float[Array, \"3\"]) -> Float[Array, \"3\"]:\n",
    "    # Must be linear!\n",
    "    y0, y1, y2 = y\n",
    "    f0 = y0 - y2\n",
    "    f1 = 0.0\n",
    "    f2 = 5 * y1\n",
    "    return jnp.stack([f0, f1, f2])\n",
    "\n",
    "\n",
    "y = jnp.array([1.0, 2.0, 3.0])\n",
    "in_structure = jax.eval_shape(lambda: y)\n",
    "jac_operator = lx.JacobianLinearOperator(f, y, args=None)\n",
    "fn_operator = lx.FunctionLinearOperator(g, in_structure)\n",
    "identity_operator = lx.IdentityLinearOperator(in_structure)\n",
    "\n",
    "operator = jac_operator @ fn_operator + 0.9 * identity_operator"
   ]
  },
  {
   "cell_type": "markdown",
   "id": "5e528057-29ff-468d-aa3d-7155dd57082d",
   "metadata": {},
   "source": [
    "This composition does not instantiate a matrix for them by default. (This is sometimes important for efficiency when working with many operators.) Instead, the composition is stored as another linear operator:"
   ]
  },
  {
   "cell_type": "code",
   "execution_count": 7,
   "id": "5d15150d-955f-4006-bd36-58e2e6663307",
   "metadata": {
    "tags": []
   },
   "outputs": [
    {
     "name": "stdout",
     "output_type": "stream",
     "text": [
      "AddLinearOperator(\n",
      "  operator1=ComposedLinearOperator(\n",
      "    operator1=JacobianLinearOperator(...),\n",
      "    operator2=FunctionLinearOperator(...)\n",
      "  ),\n",
      "  operator2=MulLinearOperator(\n",
      "    operator=IdentityLinearOperator(...),\n",
      "    scalar=f32[]\n",
      "  )\n",
      ")\n"
     ]
    }
   ],
   "source": [
    "import equinox as eqx  # https://github.com/patrick-kidger/equinox\n",
    "\n",
    "\n",
    "truncate_leaf = lambda x: x in (jac_operator, fn_operator, identity_operator)\n",
    "eqx.tree_pprint(operator, truncate_leaf=truncate_leaf)"
   ]
  },
  {
   "cell_type": "markdown",
   "id": "ff7b0591-1203-4f5e-886e-399822c68a15",
   "metadata": {
    "tags": []
   },
   "source": [
    "If you want to materialise them into a matrix, then this can be done:"
   ]
  },
  {
   "cell_type": "code",
   "execution_count": 8,
   "id": "3713589f-1ac4-4e08-946b-ecc3fcf6a4c3",
   "metadata": {
    "tags": []
   },
   "outputs": [
    {
     "data": {
      "text/plain": [
       "Array([[ 5.9  ,  0.   , -5.   ],\n",
       "       [ 0.   , -4.1  ,  0.   ],\n",
       "       [ 0.022, -0.071,  0.878]], dtype=float32)"
      ]
     },
     "execution_count": 8,
     "metadata": {},
     "output_type": "execute_result"
    }
   ],
   "source": [
    "operator.as_matrix()"
   ]
  },
  {
   "cell_type": "markdown",
   "id": "a483517e-89d7-4e9e-ad89-1915d886c14c",
   "metadata": {},
   "source": [
    "Which can in turn be treated as another linear operator, if desired:"
   ]
  },
  {
   "cell_type": "code",
   "execution_count": 9,
   "id": "fccddc81-d50e-4abe-a354-38402e462b1f",
   "metadata": {
    "tags": []
   },
   "outputs": [
    {
     "name": "stdout",
     "output_type": "stream",
     "text": [
      "MatrixLinearOperator(\n",
      "  matrix=Array([[ 5.9  ,  0.   , -5.   ],\n",
      "       [ 0.   , -4.1  ,  0.   ],\n",
      "       [ 0.022, -0.071,  0.878]], dtype=float32),\n",
      "  tags=frozenset()\n",
      ")\n"
     ]
    }
   ],
   "source": [
    "operator_fully_materialised = lx.MatrixLinearOperator(operator.as_matrix())\n",
    "eqx.tree_pprint(operator_fully_materialised, short_arrays=False)"
   ]
  }
 ],
 "metadata": {
  "kernelspec": {
   "display_name": "py39",
   "language": "python",
   "name": "py39"
  },
  "language_info": {
   "codemirror_mode": {
    "name": "ipython",
    "version": 3
   },
   "file_extension": ".py",
   "mimetype": "text/x-python",
   "name": "python",
   "nbconvert_exporter": "python",
   "pygments_lexer": "ipython3",
   "version": "3.9.16"
  }
 },
 "nbformat": 4,
 "nbformat_minor": 5
}
