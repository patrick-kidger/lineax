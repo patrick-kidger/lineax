{
 "cells": [
  {
   "cell_type": "markdown",
   "id": "a7299095-8906-4867-82ef-d6b84b161366",
   "metadata": {},
   "source": [
    "# Using only matrix-vector operations\n",
    "\n",
    "When solving a linear system $Ax = b$, it is relatively common not to have immediate access to the full matrix $A$, but only to a function $F(x) = Ax$ computing the matrix-vector product. (We could compute $A$ from $F$, but is the matrix is large then this may be very inefficient.)\n",
    "\n",
    "**Example: Newton's method**\n",
    "\n",
    "For example, this comes up when using [Newton's method](https://en.wikipedia.org/wiki/Newton%27s_method#k_variables,_k_functions). In this case, we have a function $f \\colon \\mathbb{R}^n \\to \\mathbb{R}^n$, and wish to find the $\\delta \\in \\mathbb{R}^n$ for which $\\frac{\\mathrm{d}f}{\\mathrm{d}y}(y) \\; \\delta = -f(y)$. (Where $\\frac{\\mathrm{d}f}{\\mathrm{d}y}(y) \\in \\mathbb{R}^{n \\times n}$ is a matrix: it is the Jacobian of $f$.)\n",
    "\n",
    "In this case it is possible to use forward-mode autodifferentiation to evaluate $F(x) = \\frac{\\mathrm{d}f}{\\mathrm{d}y}(y) \\; x$, without ever instantiating the whole Jacobian $\\frac{\\mathrm{d}f}{\\mathrm{d}y}(y)$. Indeed, JAX has a [Jacobian-vector product function](https://jax.readthedocs.io/en/latest/_autosummary/jax.jvp.html#jax.jvp) for exactly this purpose.\n",
    "```python\n",
    "f = ...\n",
    "y = ...\n",
    "\n",
    "def F(x):\n",
    "    \"\"\"Computes (df/dy) @ x.\"\"\"\n",
    "    _, out = jax.jvp(f, (y,), (x,))\n",
    "    return out\n",
    "```\n",
    "\n",
    "**Solving a linear system using only matrix-vector operations**\n",
    "\n",
    "Lineax offers [iterative solvers](../api/solvers.md#iterative-solvers), which are capable of solving a linear system knowing only its matrix-vector products."
   ]
  },
  {
   "cell_type": "code",
   "execution_count": 1,
   "id": "b221ee1f-bd6b-4cbf-b69b-ed2e388602e1",
   "metadata": {
    "tags": []
   },
   "outputs": [],
   "source": [
    "import jax.numpy as jnp\n",
    "import lineax as lx\n",
    "from jaxtyping import Array, Float  # https://github.com/google/jaxtyping\n",
    "\n",
    "\n",
    "def f(y: Float[Array, \"3\"], args) -> Float[Array, \"3\"]:\n",
    "    y0, y1, y2 = y\n",
    "    f0 = 5 * y0 + y1**2\n",
    "    f1 = y1 - y2 + 5\n",
    "    f2 = y0 / (1 + 5 * y2**2)\n",
    "    return jnp.stack([f0, f1, f2])\n",
    "\n",
    "\n",
    "y = jnp.array([1.0, 2.0, 3.0])\n",
    "operator = lx.JacobianLinearOperator(f, y, args=None)\n",
    "vector = f(y, args=None)\n",
    "solver = lx.NormalCG(rtol=1e-6, atol=1e-6)\n",
    "solution = lx.linear_solve(operator, vector, solver)"
   ]
  },
  {
   "cell_type": "markdown",
   "id": "87568426-35ed-404b-bf78-425a6f519218",
   "metadata": {},
   "source": [
    "!!! warning\n",
    "\n",
    "    Note that iterative solvers are something of a \"last resort\", and they are not suitable for all problems.\n",
    "\n",
    "    - [CG](https://en.wikipedia.org/wiki/Conjugate_gradient_method) requires that the problem be positive or negative semidefinite.\n",
    "    - Normalised CG (this is CG applied to the \"normal equations\" $(A^\\top A) x = (A^\\top b)$; note that $A^\\top A$ is always positive semidefinite) squares the condition number of $A$. In practice this means it may produce low-accuracy results if used with matrices with high condition number.\n",
    "    - [BiCGStab](https://en.wikipedia.org/wiki/Biconjugate_gradient_stabilized_method) and [GMRES](https://en.wikipedia.org/wiki/Generalized_minimal_residual_method) will fail on many problems. They are primarily meant as specialised tools for e.g. the matrices that arise when solving elliptic systems."
   ]
  }
 ],
 "metadata": {
  "kernelspec": {
   "display_name": "py39",
   "language": "python",
   "name": "py39"
  },
  "language_info": {
   "codemirror_mode": {
    "name": "ipython",
    "version": 3
   },
   "file_extension": ".py",
   "mimetype": "text/x-python",
   "name": "python",
   "nbconvert_exporter": "python",
   "pygments_lexer": "ipython3",
   "version": "3.9.16"
  }
 },
 "nbformat": 4,
 "nbformat_minor": 5
}
