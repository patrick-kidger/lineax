{
 "cells": [
  {
   "cell_type": "markdown",
   "id": "8d41e1dd-93da-4e81-bd4a-33e5df8915f1",
   "metadata": {},
   "source": [
    "# Classical solve\n",
    "\n",
    "We wish to solve the linear system $Ax = b$. Here we consider the classical case for which the full matrix $A$ is square, well-posed and materialised in memory."
   ]
  },
  {
   "cell_type": "code",
   "execution_count": 1,
   "id": "cb3a7781-2358-40c4-82f3-e908bddeb578",
   "metadata": {
    "tags": []
   },
   "outputs": [
    {
     "name": "stdout",
     "output_type": "stream",
     "text": [
      "solution: [-2.7321298 -8.52878   -7.7226872]\n"
     ]
    }
   ],
   "source": [
    "import jax.random as jr\n",
    "import lineax as lx\n",
    "\n",
    "\n",
    "matrix = jr.normal(jr.PRNGKey(0), (3, 3))\n",
    "vector = jr.normal(jr.PRNGKey(1), (3,))\n",
    "operator = lx.MatrixLinearOperator(matrix)\n",
    "solution = lx.linear_solve(operator, vector)\n",
    "print(\"solution:\", solution.value)"
   ]
  }
 ],
 "metadata": {
  "kernelspec": {
   "display_name": "py39",
   "language": "python",
   "name": "py39"
  },
  "language_info": {
   "codemirror_mode": {
    "name": "ipython",
    "version": 3
   },
   "file_extension": ".py",
   "mimetype": "text/x-python",
   "name": "python",
   "nbconvert_exporter": "python",
   "pygments_lexer": "ipython3",
   "version": "3.9.16"
  }
 },
 "nbformat": 4,
 "nbformat_minor": 5
}
